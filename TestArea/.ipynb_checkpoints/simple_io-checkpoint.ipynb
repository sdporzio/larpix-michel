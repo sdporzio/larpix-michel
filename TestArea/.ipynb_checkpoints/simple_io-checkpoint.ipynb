{
 "cells": [
  {
   "cell_type": "code",
   "execution_count": 1,
   "metadata": {},
   "outputs": [],
   "source": [
    "%matplotlib inline\n",
    "### Standard imports\n",
    "import uproot, uproot3, h5py\n",
    "import numpy as np\n",
    "import pandas as pd\n",
    "import matplotlib.pyplot as plt\n",
    "from tqdm.notebook import tqdm\n",
    "### HEPKIT imports\n",
    "import hepkit.hepData as hd\n",
    "import hepkit.hepIO as hio\n",
    "import hepkit.hepPlot as hp\n",
    "import hepkit.hepFormat as hf\n",
    "### Settings\n",
    "hf.DefaultSetup()\n",
    "hf.DefaultSetup()"
   ]
  },
  {
   "cell_type": "code",
   "execution_count": 3,
   "metadata": {},
   "outputs": [
    {
     "name": "stdout",
     "output_type": "stream",
     "text": [
      "Available branches: ['events', 'ext_trigs', 'hits', 'info', 'tracks']\n",
      "Available keys in events: ['evid', 'track_ref', 'hit_ref', 'nhit', 'q', 'ts_start', 'ts_end', 'ntracks', 'ext_trig_ref', 'n_ext_trigs', 'unix_ts', 'q_raw']\n",
      "Available keys in ext_trigs: ['trig_id', 'event_ref', 'ts', 'type']\n",
      "Available keys in hits: ['hid', 'px', 'py', 'ts', 'q', 'iochannel', 'iogroup', 'chipid', 'channelid', 'geom', 'event_ref', 'q_raw']\n",
      "Available keys in tracks: ['track_id', 'event_ref', 'hit_ref', 'theta', 't0', 'phi', 'xp', 'yp', 'nhit', 'q', 'ts_start', 'ts_end', 'residual', 'length', 'start', 'end', 'q_raw', 't0_type']\n"
     ]
    }
   ],
   "source": [
    "fname = '/Users/sdporzio/Data/NERSC/Michel/datalog_2021_04_09_00_55_44_CESTevd.h5'\n",
    "branch = 'hits'\n",
    "\n",
    "h5 = h5py.File(fname,'r')\n",
    "print(f'Available branches: {[t for t in h5.keys()]}')\n",
    "\n",
    "events = h5['events']\n",
    "print(f'Available keys in events: {[t for t in events.dtype.names]}')\n",
    "\n",
    "ext_trigs = h5['ext_trigs']\n",
    "print(f'Available keys in ext_trigs: {[t for t in ext_trigs.dtype.names]}')\n",
    "\n",
    "hits = h5['hits']\n",
    "print(f'Available keys in hits: {[t for t in hits.dtype.names]}')\n",
    "\n",
    "tracks = h5['tracks']\n",
    "print(f'Available keys in tracks: {[t for t in tracks.dtype.names]}')"
   ]
  },
  {
   "cell_type": "code",
   "execution_count": 10,
   "metadata": {},
   "outputs": [
    {
     "name": "stdout",
     "output_type": "stream",
     "text": [
      "Event 0 with 2 tracks and 1180 hits\n"
     ]
    }
   ],
   "source": [
    "evn = 0\n",
    "event = events[evn]\n",
    "ntracks = event[\"ntracks\"]\n",
    "nhits = event[\"nhit\"]\n",
    "\n",
    "print(f'Event {evn:.0f} with {ntracks:.0f} tracks and {nhits:.0f} hits')"
   ]
  },
  {
   "cell_type": "code",
   "execution_count": null,
   "metadata": {},
   "outputs": [],
   "source": []
  }
 ],
 "metadata": {
  "kernelspec": {
   "display_name": "Python 3",
   "language": "python",
   "name": "python3"
  },
  "language_info": {
   "codemirror_mode": {
    "name": "ipython",
    "version": 3
   },
   "file_extension": ".py",
   "mimetype": "text/x-python",
   "name": "python",
   "nbconvert_exporter": "python",
   "pygments_lexer": "ipython3",
   "version": "3.7.10"
  }
 },
 "nbformat": 4,
 "nbformat_minor": 4
}

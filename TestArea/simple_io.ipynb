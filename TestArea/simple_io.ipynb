{
 "cells": [
  {
   "cell_type": "code",
   "execution_count": 11,
   "metadata": {},
   "outputs": [],
   "source": [
    "%matplotlib inline\n",
    "### Standard imports\n",
    "import uproot, uproot3, h5py\n",
    "import numpy as np\n",
    "import pandas as pd\n",
    "import matplotlib.pyplot as plt\n",
    "from tqdm.notebook import tqdm\n",
    "### HEPKIT imports\n",
    "import hepkit.hepData as hd\n",
    "import hepkit.hepIO as hio\n",
    "import hepkit.hepPlot as hp\n",
    "import hepkit.hepFormat as hf\n",
    "### Settings\n",
    "hf.DefaultSetup()\n",
    "hf.DefaultSetup()"
   ]
  },
  {
   "cell_type": "code",
   "execution_count": 12,
   "metadata": {},
   "outputs": [
    {
     "name": "stdout",
     "output_type": "stream",
     "text": [
      "Available branches: ['events', 'ext_trigs', 'hits', 'info', 'tracks']\n",
      "Available keys in events: ['evid', 'track_ref', 'hit_ref', 'nhit', 'q', 'ts_start', 'ts_end', 'ntracks', 'ext_trig_ref', 'n_ext_trigs', 'unix_ts', 'q_raw']\n",
      "Available keys in ext_trigs: ['trig_id', 'event_ref', 'ts', 'type']\n",
      "Available keys in hits: ['hid', 'px', 'py', 'ts', 'q', 'iochannel', 'iogroup', 'chipid', 'channelid', 'geom', 'event_ref', 'q_raw']\n",
      "Available keys in tracks: ['track_id', 'event_ref', 'hit_ref', 'theta', 't0', 'phi', 'xp', 'yp', 'nhit', 'q', 'ts_start', 'ts_end', 'residual', 'length', 'start', 'end', 'q_raw', 't0_type']\n"
     ]
    }
   ],
   "source": [
    "fname = '/Users/sdporzio/Data/NERSC/Michel/datalog_2021_04_09_00_55_44_CESTevd.h5'\n",
    "branch = 'hits'\n",
    "\n",
    "h5 = h5py.File(fname,'r')\n",
    "print(f'Available branches: {[t for t in h5.keys()]}')\n",
    "\n",
    "events = h5['events']\n",
    "print(f'Available keys in events: {[t for t in events.dtype.names]}')\n",
    "\n",
    "ext_trigs = h5['ext_trigs']\n",
    "print(f'Available keys in ext_trigs: {[t for t in ext_trigs.dtype.names]}')\n",
    "\n",
    "hits = h5['hits']\n",
    "print(f'Available keys in hits: {[t for t in hits.dtype.names]}')\n",
    "\n",
    "tracks = h5['tracks']\n",
    "print(f'Available keys in tracks: {[t for t in tracks.dtype.names]}')"
   ]
  },
  {
   "cell_type": "code",
   "execution_count": null,
   "metadata": {},
   "outputs": [],
   "source": [
    "def EuDistance(point1,point2):\n",
    "    "
   ]
  },
  {
   "cell_type": "code",
   "execution_count": 17,
   "metadata": {},
   "outputs": [
    {
     "name": "stdout",
     "output_type": "stream",
     "text": [
      "Event 1 with 9 tracks and 154 hits\n"
     ]
    },
    {
     "data": {
      "text/plain": [
       "array([[ 117.511     ,  613.06499143,  315.1745    , 1912.46662621],\n",
       "       [ 144.115     ,  525.01343866,  284.26595748, 1724.91479051],\n",
       "       [ 163.27817824,  466.79076822,  259.8017    , 1576.46662621],\n",
       "       [ 241.663     ,  219.29842531, -159.390591  , -967.17591628],\n",
       "       [ 206.191     ,  343.74029535,  208.8785    , 1267.46662621],\n",
       "       [ 210.625     ,  334.19924387,  204.24755546, 1239.36623456],\n",
       "       [ 237.05768155,  255.00426076,  172.9521    , 1049.46662621],\n",
       "       [ 246.097     ,  228.54252625,  160.9217    ,  976.46662621],\n",
       "       [ 144.115     ,  560.36874234,  286.30162413, 1737.26713673]])"
      ]
     },
     "execution_count": 17,
     "metadata": {},
     "output_type": "execute_result"
    }
   ],
   "source": [
    "evn = 1\n",
    "event = events[evn]\n",
    "ntracks = event[\"ntracks\"]\n",
    "nhits = event[\"nhit\"]\n",
    "print(f'Event {evn:.0f} with {ntracks:.0f} tracks and {nhits:.0f} hits')\n",
    "\n",
    "t_tracks = tracks[event['track_ref']]\n",
    "t_tracks['start']"
   ]
  },
  {
   "cell_type": "code",
   "execution_count": null,
   "metadata": {},
   "outputs": [],
   "source": []
  }
 ],
 "metadata": {
  "kernelspec": {
   "display_name": "Python 3",
   "language": "python",
   "name": "python3"
  },
  "language_info": {
   "codemirror_mode": {
    "name": "ipython",
    "version": 3
   },
   "file_extension": ".py",
   "mimetype": "text/x-python",
   "name": "python",
   "nbconvert_exporter": "python",
   "pygments_lexer": "ipython3",
   "version": "3.7.10"
  }
 },
 "nbformat": 4,
 "nbformat_minor": 4
}

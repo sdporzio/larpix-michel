{
 "cells": [
  {
   "cell_type": "code",
   "execution_count": 2,
   "metadata": {},
   "outputs": [
    {
     "name": "stdout",
     "output_type": "stream",
     "text": [
      "Welcome to JupyROOT 6.22/08\n"
     ]
    }
   ],
   "source": [
    "%matplotlib inline\n",
    "# File formats\n",
    "import ROOT\n",
    "import uproot, h5py, pickle\n",
    "# Data manipulation\n",
    "import datetime as dt\n",
    "import numpy as np\n",
    "import pandas as pd\n",
    "# Plotting\n",
    "import matplotlib\n",
    "from matplotlib import pyplot as plt\n",
    "import matplotlib.gridspec as gridspec\n",
    "# Others\n",
    "from tqdm.notebook import tqdm\n",
    "import sys, importlib\n",
    "from importlib import reload\n",
    "from pathlib import Path\n",
    "# Personal\n",
    "import hepkit.hepData as hd\n",
    "import hepkit.hepIO as hio\n",
    "import hepkit.hepPlot as hp\n",
    "import hepkit.hepFormat as hf\n",
    "# Colors\n",
    "mc = [\n",
    "    [35/255,55/255,59/255],\n",
    "    [237/255,138/255,46/255],\n",
    "    [131/255,40/255,0/255],\n",
    "    [0/255,123/255,68/255],\n",
    "    [107/255,60/255,79/255],\n",
    "    [118/255,93/255,68/255],\n",
    "    [62/255,79/255,51/255],\n",
    "    [147/255,161/255,161/255]\n",
    "]\n",
    "\n",
    "\n",
    "# Add current directory to import path and import locals\n",
    "pathFromHere = Path(\"__file__\").parent.absolute()\n",
    "sys.path.insert(1, pathFromHere)\n",
    "import Libraries.charge_library as cl\n",
    "import Libraries.light_library as ll\n",
    "import Libraries.meta_library as ml\n",
    "import Libraries.evd_library as evd\n",
    "import Libraries.michelCandidate_class as mic\n",
    "import Libraries.betheBloch_library as bbl\n",
    "\n",
    "hf.DefaultSetup()"
   ]
  },
  {
   "cell_type": "code",
   "execution_count": 3,
   "metadata": {},
   "outputs": [
    {
     "name": "stdout",
     "output_type": "stream",
     "text": [
      "Charge file 2021_04_04_16_19_13 has been matched to light file ['20210404_161914.data'].\n",
      "events: ['evid', 'track_ref', 'hit_ref', 'nhit', 'q', 'ts_start', 'ts_end', 'ntracks', 'ext_trig_ref', 'n_ext_trigs', 'unix_ts', 'q_raw']\n",
      "tracks: ['track_id', 'event_ref', 'hit_ref', 'theta', 't0', 'phi', 'xp', 'yp', 'nhit', 'q', 'ts_start', 'ts_end', 'residual', 'length', 'start', 'end', 'q_raw', 't0_type']\n",
      "hits: ['hid', 'px', 'py', 'ts', 'q', 'iochannel', 'iogroup', 'chipid', 'channelid', 'geom', 'event_ref', 'q_raw']\n",
      "ext_trigs: ['trig_id', 'event_ref', 'ts', 'type']\n",
      "info: ['clock_period', 'configuration_file', 'electron_lifetime_file', 'geometry_file', 'pedestal_file', 'source_file', 'vdrift']\n",
      "CPU times: user 4.63 s, sys: 655 ms, total: 5.28 s\n",
      "Wall time: 5.27 s\n"
     ]
    }
   ],
   "source": [
    "%%time\n",
    "reload(cl)\n",
    "reload(ll)\n",
    "\n",
    "### FILENAMES\n",
    "cpath = '/home/dporzio/Data/Michel/michel_datalog_2021_04_04_16_19_13_CEST_evd.h5'\n",
    "ldir = '/home/dporzio/Data/Michel'\n",
    "\n",
    "### LOAD LIGHT DATA\n",
    "# Uproot\n",
    "ldata, lpath = ml.FindPartnerLightFile(cpath,ldir)\n",
    "# Root\n",
    "rfile = ROOT.TFile.Open(lpath, 'read')\n",
    "rwf = rfile.Get('rwf')\n",
    "# Convert utime to a better usable format\n",
    "ldata['utime_ms'] = ldata['utime_ms'].astype(np.int64)\n",
    "\n",
    "### LOAD CHARGE DATA\n",
    "cdata = h5py.File(cpath,'r')\n",
    "\n",
    "h_events = cdata['events']\n",
    "h_trigs = cdata['ext_trigs']\n",
    "h_tracks = cdata['tracks']\n",
    "h_hits = cdata['hits']\n",
    "h_info = cdata['info'].attrs\n",
    "\n",
    "print(\"events:\",[t for t in cdata['events'].dtype.names])\n",
    "print(\"tracks:\",[t for t in cdata['tracks'].dtype.names])\n",
    "print(\"hits:\",[t for t in cdata['hits'].dtype.names])\n",
    "print(\"ext_trigs:\",[t for t in cdata['ext_trigs'].dtype.names])\n",
    "print(\"info:\",[t for t in (cdata['info'].attrs).keys()])\n",
    "\n",
    "### LOAD GEOMETRY DATA\n",
    "geometryHelper = cl.GetGeometryHelper(h_info)\n",
    "\n",
    "# LOAD GOOD MICHELS\n",
    "filename = '/home/dporzio/App/MichelElectrons_Analysis/Database_GoodMichels/goodMichels.pkl'\n",
    "df = pickle.load(open(filename,'rb'))\n",
    "\n",
    "def GetOrientation(start,end):\n",
    "    dx = end[0] - start[0]\n",
    "    dy = end[1] - start[1]\n",
    "    dz = end[2] - start[2]\n",
    "    theta = np.arctan2(np.linalg.norm([dx,dy]),dz)\n",
    "    phi = np.arctan2(dy,dx)\n",
    "    return [dx,dy,dz], theta, phi\n",
    "\n",
    "def EuDistance(p1,p2):\n",
    "    return np.sqrt(np.power(p1[0]-p2[0],2.) + np.power(p1[1]-p2[1],2.) + np.power(p1[2]-p2[2],2.))\n",
    "\n",
    "### Last time I forgot to assign timing information to the Michels so we have to do it again here\n",
    "evids = df['id_eventId']\n",
    "datime, offset = [], []\n",
    "# for evid in evids:"
   ]
  },
  {
   "cell_type": "code",
   "execution_count": 5,
   "metadata": {},
   "outputs": [
    {
     "data": {
      "application/vnd.jupyter.widget-view+json": {
       "model_id": "197cad9950ee42dc860cb67b85dadb15",
       "version_major": 2,
       "version_minor": 0
      },
      "text/plain": [
       "  0%|          | 0/430 [00:00<?, ?it/s]"
      ]
     },
     "metadata": {},
     "output_type": "display_data"
    }
   ],
   "source": [
    "reload(bbl)\n",
    "conversionFactor = 245 # #e-/mv, q is in mv, which corresponds to 245 electrons\n",
    "\n",
    "trackAnaRange = len(df)\n",
    "# trackAnaRange = 10\n",
    "\n",
    "x,y,t = [],[],[]\n",
    "\n",
    "michelEnergy_v = []\n",
    "for g in tqdm(range(trackAnaRange)):\n",
    "    michelCand = df.iloc[g]\n",
    "    michelTrackId = michelCand['e_id_trackId'][0]\n",
    "    michelTrack = h_tracks[michelTrackId]\n",
    "    michelHitsId = michelTrack['hit_ref']\n",
    "    michelHits = h_hits[michelHitsId]\n",
    "    michelCharge = michelHits['q'].sum()\n",
    "    michelEnergy = bbl.ConvertQtoE(michelCharge,model='box')\n",
    "    michelEnergy = (michelCharge *245 * 23.6 / 0.67)/1e6\n",
    "    michelEnergy_v.append(michelEnergy)\n",
    "#     if michelEnergy>120:\n",
    "#         print(michelTrackId,michelEnergy)\n",
    "#         print(len(michelHits['px']))\n",
    "#         x = michelHits['px']\n",
    "#         y = michelHits['py']\n",
    "#         t = michelHits['ts']"
   ]
  },
  {
   "cell_type": "code",
   "execution_count": 6,
   "metadata": {},
   "outputs": [
    {
     "data": {
      "image/png": "[encoded data removed]",
      "text/plain": [
       "<Figure size 800x500 with 1 Axes>"
      ]
     },
     "metadata": {},
     "output_type": "display_data"
    }
   ],
   "source": [
    "nbins = 30\n",
    "xlims = [0,100]\n",
    "\n",
    "plt.figure(figsize=(8,5),facecolor='white',dpi=100)\n",
    "hp.HepHist(michelEnergy_v,nbins=nbins,xlims=xlims,color='C0',label='Michel electrons')\n",
    "plt.xlabel('Electron energy [MeV]')\n",
    "plt.ylabel('N. Michel electron candidates [#]')\n",
    "plt.grid(True,ls='--',color='C7',alpha=0.1)\n",
    "plt.xlim(0,100)\n",
    "# plt.legend(bbox_to_anchor=(0, -0.15, 1, 0), loc=2, ncol=2, mode=\"expand\", borderaxespad=0, frameon=False)\n",
    "plt.savefig('michel_spectrum.pdf',bbox_inches='tight', pad_inches=0.3)\n",
    "plt.show()"
   ]
  },
  {
   "cell_type": "code",
   "execution_count": 12,
   "metadata": {},
   "outputs": [
    {
     "name": "stdout",
     "output_type": "stream",
     "text": [
      "6vmqZZ0)Q)-_x-2\n"
     ]
    }
   ],
   "source": [
    "import random\n",
    "import string\n",
    "\n",
    "def randompassword():\n",
    "    random_source = string.ascii_letters + string.digits + string.punctuation\n",
    "    password_component = random.choice(string.ascii_lowercase)\n",
    "    password_component += random.choice(string.ascii_uppercase)\n",
    "    password_component += random.choice(string.ascii_uppercase)\n",
    "    password_component += random.choice(string.digits)\n",
    "    password_component += random.choice(string.punctuation)\n",
    "    \n",
    "    for i in range(10):\n",
    "        password_component += random.choice(random_source)\n",
    "    \n",
    "    password_list = list(password_component)\n",
    "    random.SystemRandom().shuffle(password_list)\n",
    "    password_component = ''.join(password_list)\n",
    "    return password_component\n",
    "    \n",
    "\n",
    "print(randompassword())\n"
   ]
  },
  {
   "cell_type": "code",
   "execution_count": null,
   "metadata": {},
   "outputs": [],
   "source": []
  }
 ],
 "metadata": {
  "kernelspec": {
   "display_name": "Python 3",
   "language": "python",
   "name": "python3"
  },
  "language_info": {
   "codemirror_mode": {
    "name": "ipython",
    "version": 3
   },
   "file_extension": ".py",
   "mimetype": "text/x-python",
   "name": "python",
   "nbconvert_exporter": "python",
   "pygments_lexer": "ipython3",
   "version": "3.7.10"
  }
 },
 "nbformat": 4,
 "nbformat_minor": 4
}
